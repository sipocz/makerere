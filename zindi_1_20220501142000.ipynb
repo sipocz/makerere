{
  "cells": [
    {
      "cell_type": "markdown",
      "metadata": {
        "id": "view-in-github",
        "colab_type": "text"
      },
      "source": [
        "<a href=\"https://colab.research.google.com/github/sipocz/makerere/blob/main/zindi_1_20220501142000.ipynb\" target=\"_parent\"><img src=\"https://colab.research.google.com/assets/colab-badge.svg\" alt=\"Open In Colab\"/></a>"
      ]
    },
    {
      "cell_type": "code",
      "execution_count": null,
      "metadata": {
        "id": "oNSaUxKc5aeV"
      },
      "outputs": [],
      "source": [
        "#!pip install Augmentor"
      ]
    },
    {
      "cell_type": "code",
      "execution_count": null,
      "metadata": {
        "id": "OzEtNGlU_Htj"
      },
      "outputs": [],
      "source": [
        "url=\"https://api.zindi.africa/v1/competitions/makerere-fall-armyworm-crop-challenge/files/Images.zip\"\n",
        "url_train=\"https://api.zindi.africa/v1/competitions/makerere-fall-armyworm-crop-challenge/files/Train.csv\"\n",
        "url_test=\"https://api.zindi.africa/v1/competitions/makerere-fall-armyworm-crop-challenge/files/Test.csv\"\n",
        "url_sample_s=\"https://api.zindi.africa/v1/competitions/makerere-fall-armyworm-crop-challenge/files/SampleSubmission.csv\"\n",
        "auth={'auth_token': \"KXxbUBzf4GQ6pqkNGC8zJt8B\"}\n"
      ]
    },
    {
      "cell_type": "code",
      "execution_count": null,
      "metadata": {
        "id": "ufyucrm1_Otq"
      },
      "outputs": [],
      "source": [
        "# Function to download data\n",
        "def zindi_data_downloader(data_url, auth, file_name):\n",
        "    import requests\n",
        "    from tqdm.auto import tqdm\n",
        "    # Get the competition data\n",
        "    x = requests.post(data_url, data = auth,stream=True)\n",
        "    target_path = 'data.zip'\n",
        "\n",
        "    handle = open(file_name, \"wb\")\n",
        "    for chunk in x.iter_content(chunk_size=512):\n",
        "        if chunk:  # filter out keep-alive new chunks\n",
        "            handle.write(chunk)\n",
        "    handle.close()"
      ]
    },
    {
      "cell_type": "code",
      "execution_count": null,
      "metadata": {
        "id": "WD02OVWM_cDN"
      },
      "outputs": [],
      "source": [
        "zindi_data_downloader(url,auth,\"Images.zip\")"
      ]
    },
    {
      "cell_type": "code",
      "execution_count": null,
      "metadata": {
        "id": "gm1xCIN-tRbZ"
      },
      "outputs": [],
      "source": [
        "!mkdir pic"
      ]
    },
    {
      "cell_type": "code",
      "execution_count": null,
      "metadata": {
        "id": "euoYhDVb_7AO"
      },
      "outputs": [],
      "source": [
        "!unzip -q  /content/Images.zip -d /content/pic"
      ]
    },
    {
      "cell_type": "code",
      "execution_count": null,
      "metadata": {
        "id": "pXtZVWQEtZQ0"
      },
      "outputs": [],
      "source": [
        "!rm *.zip"
      ]
    },
    {
      "cell_type": "code",
      "execution_count": null,
      "metadata": {
        "id": "9z6lq1ae_6-t"
      },
      "outputs": [],
      "source": [
        "zindi_data_downloader(url_train,auth,\"Train.csv\")\n",
        "zindi_data_downloader(url_test,auth,\"Test.csv\")\n",
        "zindi_data_downloader(url_sample_s,auth,\"SampleSubmission.csv\")\n",
        "\n"
      ]
    },
    {
      "cell_type": "code",
      "execution_count": null,
      "metadata": {
        "id": "MENZUFi_1t2V"
      },
      "outputs": [],
      "source": [
        ""
      ]
    },
    {
      "cell_type": "code",
      "execution_count": 34,
      "metadata": {
        "id": "7NfjIG67xvi1"
      },
      "outputs": [],
      "source": [
        "import pandas as pd"
      ]
    },
    {
      "cell_type": "code",
      "execution_count": 35,
      "metadata": {
        "id": "vEeRs0qN0MGP"
      },
      "outputs": [],
      "source": [
        "df=pd.read_csv(\"Train.csv\")\n",
        "df[\"fullpath\"]=\"/content/pic/\"+df[\"Image_id\"]\n",
        "o=[\"zero\" if i==0 else \"one\" for i in df[\"Label\"].values ]\n",
        "df[\"cat\"]=o"
      ]
    },
    {
      "cell_type": "code",
      "execution_count": 36,
      "metadata": {
        "colab": {
          "base_uri": "https://localhost:8080/",
          "height": 206
        },
        "id": "AHgEhey4A_5E",
        "outputId": "5ef93ab6-aa33-4b8a-c1f4-8314df190ced"
      },
      "outputs": [
        {
          "output_type": "execute_result",
          "data": {
            "text/plain": [
              "               Image_id  Label                           fullpath   cat\n",
              "0  id_02amazy34fgh2.jpg      1  /content/pic/id_02amazy34fgh2.jpg   one\n",
              "1  id_02mh3w48pmyc9.jpg      0  /content/pic/id_02mh3w48pmyc9.jpg  zero\n",
              "2  id_02rpb463h9d3w.jpg      0  /content/pic/id_02rpb463h9d3w.jpg  zero\n",
              "3  id_02wc3jeeao8ol.jpg      1  /content/pic/id_02wc3jeeao8ol.jpg   one\n",
              "4  id_03t2hapb8wz8p.jpg      1  /content/pic/id_03t2hapb8wz8p.jpg   one"
            ],
            "text/html": [
              "\n",
              "  <div id=\"df-ad74a188-a4fe-4f90-b2c1-c16096b61f8f\">\n",
              "    <div class=\"colab-df-container\">\n",
              "      <div>\n",
              "<style scoped>\n",
              "    .dataframe tbody tr th:only-of-type {\n",
              "        vertical-align: middle;\n",
              "    }\n",
              "\n",
              "    .dataframe tbody tr th {\n",
              "        vertical-align: top;\n",
              "    }\n",
              "\n",
              "    .dataframe thead th {\n",
              "        text-align: right;\n",
              "    }\n",
              "</style>\n",
              "<table border=\"1\" class=\"dataframe\">\n",
              "  <thead>\n",
              "    <tr style=\"text-align: right;\">\n",
              "      <th></th>\n",
              "      <th>Image_id</th>\n",
              "      <th>Label</th>\n",
              "      <th>fullpath</th>\n",
              "      <th>cat</th>\n",
              "    </tr>\n",
              "  </thead>\n",
              "  <tbody>\n",
              "    <tr>\n",
              "      <th>0</th>\n",
              "      <td>id_02amazy34fgh2.jpg</td>\n",
              "      <td>1</td>\n",
              "      <td>/content/pic/id_02amazy34fgh2.jpg</td>\n",
              "      <td>one</td>\n",
              "    </tr>\n",
              "    <tr>\n",
              "      <th>1</th>\n",
              "      <td>id_02mh3w48pmyc9.jpg</td>\n",
              "      <td>0</td>\n",
              "      <td>/content/pic/id_02mh3w48pmyc9.jpg</td>\n",
              "      <td>zero</td>\n",
              "    </tr>\n",
              "    <tr>\n",
              "      <th>2</th>\n",
              "      <td>id_02rpb463h9d3w.jpg</td>\n",
              "      <td>0</td>\n",
              "      <td>/content/pic/id_02rpb463h9d3w.jpg</td>\n",
              "      <td>zero</td>\n",
              "    </tr>\n",
              "    <tr>\n",
              "      <th>3</th>\n",
              "      <td>id_02wc3jeeao8ol.jpg</td>\n",
              "      <td>1</td>\n",
              "      <td>/content/pic/id_02wc3jeeao8ol.jpg</td>\n",
              "      <td>one</td>\n",
              "    </tr>\n",
              "    <tr>\n",
              "      <th>4</th>\n",
              "      <td>id_03t2hapb8wz8p.jpg</td>\n",
              "      <td>1</td>\n",
              "      <td>/content/pic/id_03t2hapb8wz8p.jpg</td>\n",
              "      <td>one</td>\n",
              "    </tr>\n",
              "  </tbody>\n",
              "</table>\n",
              "</div>\n",
              "      <button class=\"colab-df-convert\" onclick=\"convertToInteractive('df-ad74a188-a4fe-4f90-b2c1-c16096b61f8f')\"\n",
              "              title=\"Convert this dataframe to an interactive table.\"\n",
              "              style=\"display:none;\">\n",
              "        \n",
              "  <svg xmlns=\"http://www.w3.org/2000/svg\" height=\"24px\"viewBox=\"0 0 24 24\"\n",
              "       width=\"24px\">\n",
              "    <path d=\"M0 0h24v24H0V0z\" fill=\"none\"/>\n",
              "    <path d=\"M18.56 5.44l.94 2.06.94-2.06 2.06-.94-2.06-.94-.94-2.06-.94 2.06-2.06.94zm-11 1L8.5 8.5l.94-2.06 2.06-.94-2.06-.94L8.5 2.5l-.94 2.06-2.06.94zm10 10l.94 2.06.94-2.06 2.06-.94-2.06-.94-.94-2.06-.94 2.06-2.06.94z\"/><path d=\"M17.41 7.96l-1.37-1.37c-.4-.4-.92-.59-1.43-.59-.52 0-1.04.2-1.43.59L10.3 9.45l-7.72 7.72c-.78.78-.78 2.05 0 2.83L4 21.41c.39.39.9.59 1.41.59.51 0 1.02-.2 1.41-.59l7.78-7.78 2.81-2.81c.8-.78.8-2.07 0-2.86zM5.41 20L4 18.59l7.72-7.72 1.47 1.35L5.41 20z\"/>\n",
              "  </svg>\n",
              "      </button>\n",
              "      \n",
              "  <style>\n",
              "    .colab-df-container {\n",
              "      display:flex;\n",
              "      flex-wrap:wrap;\n",
              "      gap: 12px;\n",
              "    }\n",
              "\n",
              "    .colab-df-convert {\n",
              "      background-color: #E8F0FE;\n",
              "      border: none;\n",
              "      border-radius: 50%;\n",
              "      cursor: pointer;\n",
              "      display: none;\n",
              "      fill: #1967D2;\n",
              "      height: 32px;\n",
              "      padding: 0 0 0 0;\n",
              "      width: 32px;\n",
              "    }\n",
              "\n",
              "    .colab-df-convert:hover {\n",
              "      background-color: #E2EBFA;\n",
              "      box-shadow: 0px 1px 2px rgba(60, 64, 67, 0.3), 0px 1px 3px 1px rgba(60, 64, 67, 0.15);\n",
              "      fill: #174EA6;\n",
              "    }\n",
              "\n",
              "    [theme=dark] .colab-df-convert {\n",
              "      background-color: #3B4455;\n",
              "      fill: #D2E3FC;\n",
              "    }\n",
              "\n",
              "    [theme=dark] .colab-df-convert:hover {\n",
              "      background-color: #434B5C;\n",
              "      box-shadow: 0px 1px 3px 1px rgba(0, 0, 0, 0.15);\n",
              "      filter: drop-shadow(0px 1px 2px rgba(0, 0, 0, 0.3));\n",
              "      fill: #FFFFFF;\n",
              "    }\n",
              "  </style>\n",
              "\n",
              "      <script>\n",
              "        const buttonEl =\n",
              "          document.querySelector('#df-ad74a188-a4fe-4f90-b2c1-c16096b61f8f button.colab-df-convert');\n",
              "        buttonEl.style.display =\n",
              "          google.colab.kernel.accessAllowed ? 'block' : 'none';\n",
              "\n",
              "        async function convertToInteractive(key) {\n",
              "          const element = document.querySelector('#df-ad74a188-a4fe-4f90-b2c1-c16096b61f8f');\n",
              "          const dataTable =\n",
              "            await google.colab.kernel.invokeFunction('convertToInteractive',\n",
              "                                                     [key], {});\n",
              "          if (!dataTable) return;\n",
              "\n",
              "          const docLinkHtml = 'Like what you see? Visit the ' +\n",
              "            '<a target=\"_blank\" href=https://colab.research.google.com/notebooks/data_table.ipynb>data table notebook</a>'\n",
              "            + ' to learn more about interactive tables.';\n",
              "          element.innerHTML = '';\n",
              "          dataTable['output_type'] = 'display_data';\n",
              "          await google.colab.output.renderOutput(dataTable, element);\n",
              "          const docLink = document.createElement('div');\n",
              "          docLink.innerHTML = docLinkHtml;\n",
              "          element.appendChild(docLink);\n",
              "        }\n",
              "      </script>\n",
              "    </div>\n",
              "  </div>\n",
              "  "
            ]
          },
          "metadata": {},
          "execution_count": 36
        }
      ],
      "source": [
        "df.head()"
      ]
    },
    {
      "cell_type": "code",
      "execution_count": 37,
      "metadata": {
        "id": "8PsYT5jo14Ip"
      },
      "outputs": [],
      "source": [
        "ids=df[\"Image_id\"].to_list()\n",
        "labels=df[\"Label\"].to_list()"
      ]
    },
    {
      "cell_type": "code",
      "execution_count": 38,
      "metadata": {
        "id": "SNAjk56QWPSX"
      },
      "outputs": [],
      "source": [
        "import tensorflow as tf\n",
        "import tensorflow.keras as keras\n",
        "from tensorflow.keras.callbacks import ModelCheckpoint\n",
        "from tensorflow.keras.layers import Conv2D, Flatten, MaxPooling2D,Dense,Dropout\n",
        "from tensorflow.keras.models  import Sequential\n",
        "from tensorflow.keras.preprocessing.image import ImageDataGenerator"
      ]
    },
    {
      "cell_type": "code",
      "execution_count": 39,
      "metadata": {
        "colab": {
          "base_uri": "https://localhost:8080/"
        },
        "id": "_tQPduXGFi4d",
        "outputId": "8f38caec-010f-41a8-a521-cec06afe27ab"
      },
      "outputs": [
        {
          "output_type": "stream",
          "name": "stdout",
          "text": [
            "X: 300, Y: 300\n",
            "Found 1458 validated image filenames belonging to 2 classes.\n",
            "Found 161 validated image filenames belonging to 2 classes.\n"
          ]
        }
      ],
      "source": [
        "from numpy.ma.core import resize\n",
        "x_px=300\n",
        "y_px=300\n",
        "bpc=3\n",
        "data_path=\"/content/pic/\"\n",
        "batch_size=10\n",
        "train=ImageDataGenerator(horizontal_flip=True, vertical_flip=True,validation_split=0.1,rescale=1./255,\n",
        "                         shear_range = 0.05,zoom_range = 0.05,\n",
        "                         width_shift_range = 0.0,\n",
        "                         height_shift_range = 0.0,)\n",
        "\n",
        "test=ImageDataGenerator(rescale=1./255,validation_split=0.1)\n",
        "\n",
        "\n",
        "\n",
        "\n",
        "print(f\"X: {x_px}, Y: {y_px}\")\n",
        "train_generator=train.flow_from_dataframe(df,x_col=\"fullpath\",y_col=\"cat\",target_size=(x_px,y_px),batch_size=batch_size,class_mode='binary',subset='training',color_mode=\"rgb\")\n",
        "test_generator = test.flow_from_dataframe(df,x_col=\"fullpath\",y_col=\"cat\",target_size=(x_px,y_px),batch_size=batch_size,class_mode='binary',subset='validation',color_mode=\"rgb\")\n"
      ]
    },
    {
      "cell_type": "code",
      "execution_count": 39,
      "metadata": {
        "id": "v9WuCmUggsRh"
      },
      "outputs": [],
      "source": [
        ""
      ]
    },
    {
      "cell_type": "code",
      "execution_count": 40,
      "metadata": {
        "id": "Dq1iuT2AiGXk"
      },
      "outputs": [],
      "source": [
        "# Build Model\n",
        "# Importáld a megfelelő rétegeket\n",
        "from tensorflow.keras.layers import Input,Dense,Embedding,LSTM,TimeDistributed, Flatten, Bidirectional, Conv2D, Dropout,Convolution2D, Conv2DTranspose\n",
        "from tensorflow.keras.layers import MaxPooling2D, Rescaling,RandomFlip,RandomRotation, Reshape,BatchNormalization,MaxPooling3D\n",
        "\n",
        "from tensorflow.keras.models import Model\n",
        "from tensorflow.keras.optimizers import Adadelta,Adam,SGD,Nadam,Ftrl,SGD,Adamax\n",
        "from tensorflow.keras.losses import sparse_categorical_crossentropy,categorical_crossentropy, mean_squared_error\n",
        "from tensorflow.keras import backend as K\n",
        "from keras.regularizers import l1\n",
        "from keras.initializers import RandomNormal,Zeros,GlorotUniform\n",
        "\n",
        "K.clear_session()\n",
        "\n",
        "\n",
        "\n",
        "inputs= Input(shape=(x_px,y_px,bpc))\n",
        "\n",
        "e = Conv2D(32, (2, 2), activation='relu',)(inputs)\n",
        "e = MaxPooling2D((2, 2))(e)\n",
        "\n",
        "e = Conv2D(32, (2, 2), activation='relu')(e)\n",
        "e = MaxPooling2D((2, 2))(e)\n",
        "\n",
        "e = Conv2D(32, (2, 2), activation='relu')(e)\n",
        "e = MaxPooling2D((2, 2))(e)\n",
        "\n",
        "e = Conv2D(32, (2, 2), activation='relu')(e)\n",
        "e = MaxPooling2D((2, 2))(e)\n",
        "\n",
        "\n",
        "l = Flatten()(e)\n",
        "        #l = Dense(1920, activation='sigmoid')(l)\n",
        "         # overfitting compensation ??\n",
        "        #l=Dropout(0.7)(l)\n",
        "        #l = Dense(74, activation='sigmoid')(l)\n",
        "    #l=Dropout(0.6)(l)\n",
        "    #l = Dense(56, activation='sigmoid')(l)\n",
        "l=Dropout(0.35)(l)  # 0,95 95%\n",
        "\n",
        "l=Dense(50,activation=\"relu\")(l)\n",
        "\n",
        "l=Dropout(0.35)(l)  # 0,95 95%\n",
        "\n",
        "\n",
        "decoded = Dense(2, activation='softmax')(l)\n",
        "\n",
        "\n",
        "convmodel = Model(inputs, decoded)\n"
      ]
    },
    {
      "cell_type": "code",
      "execution_count": 41,
      "metadata": {
        "colab": {
          "base_uri": "https://localhost:8080/"
        },
        "id": "nnkq15x9iyAN",
        "outputId": "6fc9a0b6-c7eb-43ef-9602-e43d3bb78d55"
      },
      "outputs": [
        {
          "output_type": "stream",
          "name": "stdout",
          "text": [
            "Model: \"model\"\n",
            "_________________________________________________________________\n",
            " Layer (type)                Output Shape              Param #   \n",
            "=================================================================\n",
            " input_1 (InputLayer)        [(None, 300, 300, 3)]     0         \n",
            "                                                                 \n",
            " conv2d (Conv2D)             (None, 299, 299, 32)      416       \n",
            "                                                                 \n",
            " max_pooling2d (MaxPooling2D  (None, 149, 149, 32)     0         \n",
            " )                                                               \n",
            "                                                                 \n",
            " conv2d_1 (Conv2D)           (None, 148, 148, 32)      4128      \n",
            "                                                                 \n",
            " max_pooling2d_1 (MaxPooling  (None, 74, 74, 32)       0         \n",
            " 2D)                                                             \n",
            "                                                                 \n",
            " conv2d_2 (Conv2D)           (None, 73, 73, 32)        4128      \n",
            "                                                                 \n",
            " max_pooling2d_2 (MaxPooling  (None, 36, 36, 32)       0         \n",
            " 2D)                                                             \n",
            "                                                                 \n",
            " conv2d_3 (Conv2D)           (None, 35, 35, 32)        4128      \n",
            "                                                                 \n",
            " max_pooling2d_3 (MaxPooling  (None, 17, 17, 32)       0         \n",
            " 2D)                                                             \n",
            "                                                                 \n",
            " flatten (Flatten)           (None, 9248)              0         \n",
            "                                                                 \n",
            " dropout (Dropout)           (None, 9248)              0         \n",
            "                                                                 \n",
            " dense (Dense)               (None, 50)                462450    \n",
            "                                                                 \n",
            " dropout_1 (Dropout)         (None, 50)                0         \n",
            "                                                                 \n",
            " dense_1 (Dense)             (None, 2)                 102       \n",
            "                                                                 \n",
            "=================================================================\n",
            "Total params: 475,352\n",
            "Trainable params: 475,352\n",
            "Non-trainable params: 0\n",
            "_________________________________________________________________\n"
          ]
        }
      ],
      "source": [
        "\n",
        "cce = tf.keras.losses.SparseCategoricalCrossentropy()\n",
        "acc = tf.keras.metrics.SparseCategoricalAccuracy()\n",
        "optimizer=Adam(learning_rate=0.0005)\n",
        "convmodel.compile(loss=cce, optimizer=optimizer, metrics=[acc])\n",
        "convmodel.summary()"
      ]
    },
    {
      "cell_type": "code",
      "execution_count": null,
      "metadata": {
        "colab": {
          "base_uri": "https://localhost:8080/"
        },
        "id": "lC1u6bQrjFwm",
        "outputId": "f64c9726-8d5e-4452-d9d4-d59490d0c49e"
      },
      "outputs": [
        {
          "output_type": "stream",
          "name": "stdout",
          "text": [
            "Epoch 1/100\n",
            "146/146 [==============================] - 55s 366ms/step - loss: 0.6759 - sparse_categorical_accuracy: 0.5816 - val_loss: 0.6036 - val_sparse_categorical_accuracy: 0.7764\n",
            "Epoch 2/100\n",
            "146/146 [==============================] - 54s 372ms/step - loss: 0.5221 - sparse_categorical_accuracy: 0.7538 - val_loss: 0.4055 - val_sparse_categorical_accuracy: 0.8261\n",
            "Epoch 3/100\n",
            "146/146 [==============================] - 54s 367ms/step - loss: 0.4292 - sparse_categorical_accuracy: 0.8134 - val_loss: 0.3821 - val_sparse_categorical_accuracy: 0.8199\n",
            "Epoch 4/100\n",
            "146/146 [==============================] - 54s 367ms/step - loss: 0.4015 - sparse_categorical_accuracy: 0.8292 - val_loss: 0.3418 - val_sparse_categorical_accuracy: 0.8571\n",
            "Epoch 5/100\n",
            "146/146 [==============================] - 53s 364ms/step - loss: 0.3700 - sparse_categorical_accuracy: 0.8409 - val_loss: 0.3811 - val_sparse_categorical_accuracy: 0.8261\n",
            "Epoch 6/100\n",
            "146/146 [==============================] - 53s 363ms/step - loss: 0.3335 - sparse_categorical_accuracy: 0.8731 - val_loss: 0.2573 - val_sparse_categorical_accuracy: 0.8634\n",
            "Epoch 7/100\n",
            "146/146 [==============================] - 53s 362ms/step - loss: 0.2862 - sparse_categorical_accuracy: 0.8909 - val_loss: 0.2093 - val_sparse_categorical_accuracy: 0.9130\n",
            "Epoch 8/100\n",
            "146/146 [==============================] - 53s 363ms/step - loss: 0.2619 - sparse_categorical_accuracy: 0.9026 - val_loss: 0.5870 - val_sparse_categorical_accuracy: 0.7826\n",
            "Epoch 9/100\n",
            "146/146 [==============================] - 53s 365ms/step - loss: 0.2312 - sparse_categorical_accuracy: 0.9095 - val_loss: 0.1738 - val_sparse_categorical_accuracy: 0.9379\n",
            "Epoch 10/100\n",
            "146/146 [==============================] - 54s 368ms/step - loss: 0.2057 - sparse_categorical_accuracy: 0.9252 - val_loss: 0.2044 - val_sparse_categorical_accuracy: 0.9193\n",
            "Epoch 11/100\n",
            "146/146 [==============================] - 55s 374ms/step - loss: 0.2155 - sparse_categorical_accuracy: 0.9156 - val_loss: 0.5662 - val_sparse_categorical_accuracy: 0.7888\n",
            "Epoch 12/100\n",
            "146/146 [==============================] - 55s 377ms/step - loss: 0.1761 - sparse_categorical_accuracy: 0.9342 - val_loss: 0.2711 - val_sparse_categorical_accuracy: 0.9006\n",
            "Epoch 13/100\n",
            "146/146 [==============================] - 54s 371ms/step - loss: 0.1562 - sparse_categorical_accuracy: 0.9431 - val_loss: 0.2628 - val_sparse_categorical_accuracy: 0.9068\n",
            "Epoch 14/100\n",
            "146/146 [==============================] - 54s 367ms/step - loss: 0.1644 - sparse_categorical_accuracy: 0.9328 - val_loss: 0.1981 - val_sparse_categorical_accuracy: 0.9317\n",
            "Epoch 15/100\n",
            "146/146 [==============================] - 56s 382ms/step - loss: 0.1508 - sparse_categorical_accuracy: 0.9438 - val_loss: 0.2614 - val_sparse_categorical_accuracy: 0.9006\n",
            "Epoch 16/100\n",
            "146/146 [==============================] - 53s 364ms/step - loss: 0.1621 - sparse_categorical_accuracy: 0.9417 - val_loss: 0.4765 - val_sparse_categorical_accuracy: 0.8261\n",
            "Epoch 17/100\n",
            "146/146 [==============================] - 53s 364ms/step - loss: 0.1333 - sparse_categorical_accuracy: 0.9499 - val_loss: 0.2427 - val_sparse_categorical_accuracy: 0.9068\n",
            "Epoch 18/100\n",
            "146/146 [==============================] - 53s 365ms/step - loss: 0.1349 - sparse_categorical_accuracy: 0.9396 - val_loss: 0.3311 - val_sparse_categorical_accuracy: 0.8820\n",
            "Epoch 19/100\n",
            "146/146 [==============================] - 53s 365ms/step - loss: 0.1279 - sparse_categorical_accuracy: 0.9513 - val_loss: 0.1748 - val_sparse_categorical_accuracy: 0.9317\n",
            "Epoch 20/100\n",
            "146/146 [==============================] - 53s 362ms/step - loss: 0.1237 - sparse_categorical_accuracy: 0.9561 - val_loss: 0.2359 - val_sparse_categorical_accuracy: 0.9193\n",
            "Epoch 21/100\n",
            "146/146 [==============================] - 53s 364ms/step - loss: 0.1389 - sparse_categorical_accuracy: 0.9540 - val_loss: 0.1886 - val_sparse_categorical_accuracy: 0.9317\n",
            "Epoch 22/100\n",
            "146/146 [==============================] - 53s 366ms/step - loss: 0.1035 - sparse_categorical_accuracy: 0.9636 - val_loss: 0.1034 - val_sparse_categorical_accuracy: 0.9503\n",
            "Epoch 23/100\n",
            "146/146 [==============================] - 53s 364ms/step - loss: 0.1046 - sparse_categorical_accuracy: 0.9623 - val_loss: 0.1234 - val_sparse_categorical_accuracy: 0.9441\n",
            "Epoch 24/100\n",
            "146/146 [==============================] - 53s 364ms/step - loss: 0.1010 - sparse_categorical_accuracy: 0.9726 - val_loss: 0.1655 - val_sparse_categorical_accuracy: 0.9317\n",
            "Epoch 25/100\n",
            "146/146 [==============================] - 53s 364ms/step - loss: 0.0998 - sparse_categorical_accuracy: 0.9623 - val_loss: 0.1845 - val_sparse_categorical_accuracy: 0.9565\n",
            "Epoch 26/100\n",
            "146/146 [==============================] - 53s 362ms/step - loss: 0.1207 - sparse_categorical_accuracy: 0.9595 - val_loss: 0.1577 - val_sparse_categorical_accuracy: 0.9441\n",
            "Epoch 27/100\n",
            "  9/146 [>.............................] - ETA: 47s - loss: 0.0964 - sparse_categorical_accuracy: 0.9778"
          ]
        }
      ],
      "source": [
        "history = convmodel.fit(train_generator, epochs=100,  validation_data=test_generator,batch_size=1)"
      ]
    },
    {
      "cell_type": "code",
      "execution_count": null,
      "metadata": {
        "id": "QQFeqexETFhK"
      },
      "outputs": [],
      "source": [
        "def plot_history(history):\n",
        "    import matplotlib.pyplot as plt\n",
        "    loss_list = [s for s in history.history.keys() if 'loss' in s and 'val' not in s]\n",
        "    val_loss_list = [s for s in history.history.keys() if 'loss' in s and 'val' in s]\n",
        "    acc_list = [s for s in history.history.keys() if 'acc' in s and 'val' not in s]\n",
        "    val_acc_list = [s for s in history.history.keys() if 'acc' in s and 'val' in s]\n",
        "    \n",
        "    if len(loss_list) == 0:\n",
        "        print('Loss is missing in history')\n",
        "        return \n",
        "    \n",
        "    ## As loss always exists\n",
        "    epochs = range(1,len(history.history[loss_list[0]]) + 1)\n",
        "    \n",
        "    ## Loss\n",
        "    plt.figure(1)\n",
        "    for l in loss_list:\n",
        "        plt.plot(epochs, history.history[l], 'b', label='Training loss (' + str(str(format(history.history[l][-1],'.5f'))+')'))\n",
        "    for l in val_loss_list:\n",
        "        plt.plot(epochs, history.history[l], 'g', label='Validation loss (' + str(str(format(history.history[l][-1],'.5f'))+')'))\n",
        "    \n",
        "    plt.title('Loss')\n",
        "    plt.xlabel('Epochs')\n",
        "    plt.ylabel('Loss')\n",
        "    plt.legend()\n",
        "    \n",
        "    ## Accuracy\n",
        "    plt.figure(2)\n",
        "    for l in acc_list:\n",
        "        plt.plot(epochs, history.history[l], 'b', label='Training accuracy (' + str(format(history.history[l][-1],'.5f'))+')')\n",
        "    for l in val_acc_list:    \n",
        "        plt.plot(epochs, history.history[l], 'g', label='Validation accuracy (' + str(format(history.history[l][-1],'.5f'))+')')\n",
        "\n",
        "    plt.title('Accuracy')\n",
        "    plt.xlabel('Epochs')\n",
        "    plt.ylabel('Accuracy')\n",
        "    plt.legend()\n",
        "    plt.show()"
      ]
    },
    {
      "cell_type": "code",
      "source": [
        "plot_history(history)"
      ],
      "metadata": {
        "id": "i7Bk17gDFrqy"
      },
      "execution_count": null,
      "outputs": []
    }
  ],
  "metadata": {
    "accelerator": "GPU",
    "colab": {
      "name": "zindi_1.ipynb",
      "provenance": [],
      "authorship_tag": "ABX9TyOuEs4NGT5X26yWNNy+hU27",
      "include_colab_link": true
    },
    "kernelspec": {
      "display_name": "Python 3",
      "name": "python3"
    },
    "language_info": {
      "name": "python"
    }
  },
  "nbformat": 4,
  "nbformat_minor": 0
}