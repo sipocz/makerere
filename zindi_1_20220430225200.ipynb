{
  "nbformat": 4,
  "nbformat_minor": 0,
  "metadata": {
    "colab": {
      "name": "zindi_1.ipynb",
      "provenance": [],
      "authorship_tag": "ABX9TyOhMtESKJsgB+LR/VU1A9vj",
      "include_colab_link": true
    },
    "kernelspec": {
      "name": "python3",
      "display_name": "Python 3"
    },
    "language_info": {
      "name": "python"
    },
    "accelerator": "GPU"
  },
  "cells": [
    {
      "cell_type": "markdown",
      "metadata": {
        "id": "view-in-github",
        "colab_type": "text"
      },
      "source": [
        "<a href=\"https://colab.research.google.com/github/sipocz/makerere/blob/main/zindi_1_20220430225200.ipynb\" target=\"_parent\"><img src=\"https://colab.research.google.com/assets/colab-badge.svg\" alt=\"Open In Colab\"/></a>"
      ]
    },
    {
      "cell_type": "code",
      "source": [
        "#!pip install Augmentor"
      ],
      "metadata": {
        "id": "oNSaUxKc5aeV"
      },
      "execution_count": null,
      "outputs": []
    },
    {
      "cell_type": "code",
      "source": [
        "url=\"https://api.zindi.africa/v1/competitions/makerere-fall-armyworm-crop-challenge/files/Images.zip\"\n",
        "url_train=\"https://api.zindi.africa/v1/competitions/makerere-fall-armyworm-crop-challenge/files/Train.csv\"\n",
        "url_test=\"https://api.zindi.africa/v1/competitions/makerere-fall-armyworm-crop-challenge/files/Test.csv\"\n",
        "url_sample_s=\"https://api.zindi.africa/v1/competitions/makerere-fall-armyworm-crop-challenge/files/SampleSubmission.csv\"\n",
        "auth={'auth_token': \"KXxbUBzf4GQ6pqkNGC8zJt8B\"}\n"
      ],
      "metadata": {
        "id": "OzEtNGlU_Htj"
      },
      "execution_count": 35,
      "outputs": []
    },
    {
      "cell_type": "code",
      "source": [
        "# Function to download data\n",
        "def zindi_data_downloader(data_url, auth, file_name):\n",
        "    import requests\n",
        "    from tqdm.auto import tqdm\n",
        "    # Get the competition data\n",
        "    x = requests.post(data_url, data = auth,stream=True)\n",
        "    target_path = 'data.zip'\n",
        "\n",
        "    handle = open(file_name, \"wb\")\n",
        "    for chunk in x.iter_content(chunk_size=512):\n",
        "        if chunk:  # filter out keep-alive new chunks\n",
        "            handle.write(chunk)\n",
        "    handle.close()"
      ],
      "metadata": {
        "id": "ufyucrm1_Otq"
      },
      "execution_count": 36,
      "outputs": []
    },
    {
      "cell_type": "code",
      "source": [
        "zindi_data_downloader(url,auth,\"Images.zip\")"
      ],
      "metadata": {
        "id": "WD02OVWM_cDN"
      },
      "execution_count": 21,
      "outputs": []
    },
    {
      "cell_type": "code",
      "source": [
        "!mkdir pic"
      ],
      "metadata": {
        "id": "gm1xCIN-tRbZ",
        "colab": {
          "base_uri": "https://localhost:8080/"
        },
        "outputId": "dbe149c9-2cad-4daa-e5d8-3a4bdb5de69f"
      },
      "execution_count": 22,
      "outputs": [
        {
          "output_type": "stream",
          "name": "stdout",
          "text": [
            "mkdir: cannot create directory ‘pic’: File exists\n"
          ]
        }
      ]
    },
    {
      "cell_type": "code",
      "source": [
        "!unzip -q  /content/Images.zip -d /content/pic"
      ],
      "metadata": {
        "id": "euoYhDVb_7AO",
        "colab": {
          "base_uri": "https://localhost:8080/"
        },
        "outputId": "0c467cd9-2f91-447c-910b-1a15c3d7df5a"
      },
      "execution_count": 23,
      "outputs": [
        {
          "output_type": "stream",
          "name": "stdout",
          "text": [
            "replace /content/pic/id_0adud1myz8tvz.jpg? [y]es, [n]o, [A]ll, [N]one, [r]ename: A\n"
          ]
        }
      ]
    },
    {
      "cell_type": "code",
      "source": [
        "!rm *.zip"
      ],
      "metadata": {
        "id": "pXtZVWQEtZQ0"
      },
      "execution_count": 24,
      "outputs": []
    },
    {
      "cell_type": "code",
      "source": [
        "zindi_data_downloader(url_train,auth,\"Train.csv\")\n",
        "zindi_data_downloader(url_test,auth,\"Test.csv\")\n",
        "zindi_data_downloader(url_sample_s,auth,\"SampleSubmission.csv\")\n",
        "\n"
      ],
      "metadata": {
        "id": "9z6lq1ae_6-t"
      },
      "execution_count": 25,
      "outputs": []
    },
    {
      "cell_type": "code",
      "source": [
        ""
      ],
      "metadata": {
        "id": "MENZUFi_1t2V"
      },
      "execution_count": 25,
      "outputs": []
    },
    {
      "cell_type": "code",
      "source": [
        "import pandas as pd"
      ],
      "metadata": {
        "id": "7NfjIG67xvi1"
      },
      "execution_count": 26,
      "outputs": []
    },
    {
      "cell_type": "code",
      "source": [
        "df=pd.read_csv(\"Train.csv\")\n",
        "df[\"fullpath\"]=\"/content/pic/\"+df[\"Image_id\"]\n",
        "o=[\"zero\" if i==0 else \"one\" for i in df[\"Label\"].values ]\n",
        "df[\"cat\"]=o"
      ],
      "metadata": {
        "id": "vEeRs0qN0MGP"
      },
      "execution_count": 27,
      "outputs": []
    },
    {
      "cell_type": "code",
      "source": [
        "df.head()"
      ],
      "metadata": {
        "colab": {
          "base_uri": "https://localhost:8080/",
          "height": 206
        },
        "id": "AHgEhey4A_5E",
        "outputId": "82d09223-9014-4645-ecfe-89c515823f8d"
      },
      "execution_count": 28,
      "outputs": [
        {
          "output_type": "execute_result",
          "data": {
            "text/plain": [
              "               Image_id  Label                           fullpath   cat\n",
              "0  id_02amazy34fgh2.jpg      1  /content/pic/id_02amazy34fgh2.jpg   one\n",
              "1  id_02mh3w48pmyc9.jpg      0  /content/pic/id_02mh3w48pmyc9.jpg  zero\n",
              "2  id_02rpb463h9d3w.jpg      0  /content/pic/id_02rpb463h9d3w.jpg  zero\n",
              "3  id_02wc3jeeao8ol.jpg      1  /content/pic/id_02wc3jeeao8ol.jpg   one\n",
              "4  id_03t2hapb8wz8p.jpg      1  /content/pic/id_03t2hapb8wz8p.jpg   one"
            ],
            "text/html": [
              "\n",
              "  <div id=\"df-9aa7ebd9-2c7f-4bae-9513-091b0dc024ab\">\n",
              "    <div class=\"colab-df-container\">\n",
              "      <div>\n",
              "<style scoped>\n",
              "    .dataframe tbody tr th:only-of-type {\n",
              "        vertical-align: middle;\n",
              "    }\n",
              "\n",
              "    .dataframe tbody tr th {\n",
              "        vertical-align: top;\n",
              "    }\n",
              "\n",
              "    .dataframe thead th {\n",
              "        text-align: right;\n",
              "    }\n",
              "</style>\n",
              "<table border=\"1\" class=\"dataframe\">\n",
              "  <thead>\n",
              "    <tr style=\"text-align: right;\">\n",
              "      <th></th>\n",
              "      <th>Image_id</th>\n",
              "      <th>Label</th>\n",
              "      <th>fullpath</th>\n",
              "      <th>cat</th>\n",
              "    </tr>\n",
              "  </thead>\n",
              "  <tbody>\n",
              "    <tr>\n",
              "      <th>0</th>\n",
              "      <td>id_02amazy34fgh2.jpg</td>\n",
              "      <td>1</td>\n",
              "      <td>/content/pic/id_02amazy34fgh2.jpg</td>\n",
              "      <td>one</td>\n",
              "    </tr>\n",
              "    <tr>\n",
              "      <th>1</th>\n",
              "      <td>id_02mh3w48pmyc9.jpg</td>\n",
              "      <td>0</td>\n",
              "      <td>/content/pic/id_02mh3w48pmyc9.jpg</td>\n",
              "      <td>zero</td>\n",
              "    </tr>\n",
              "    <tr>\n",
              "      <th>2</th>\n",
              "      <td>id_02rpb463h9d3w.jpg</td>\n",
              "      <td>0</td>\n",
              "      <td>/content/pic/id_02rpb463h9d3w.jpg</td>\n",
              "      <td>zero</td>\n",
              "    </tr>\n",
              "    <tr>\n",
              "      <th>3</th>\n",
              "      <td>id_02wc3jeeao8ol.jpg</td>\n",
              "      <td>1</td>\n",
              "      <td>/content/pic/id_02wc3jeeao8ol.jpg</td>\n",
              "      <td>one</td>\n",
              "    </tr>\n",
              "    <tr>\n",
              "      <th>4</th>\n",
              "      <td>id_03t2hapb8wz8p.jpg</td>\n",
              "      <td>1</td>\n",
              "      <td>/content/pic/id_03t2hapb8wz8p.jpg</td>\n",
              "      <td>one</td>\n",
              "    </tr>\n",
              "  </tbody>\n",
              "</table>\n",
              "</div>\n",
              "      <button class=\"colab-df-convert\" onclick=\"convertToInteractive('df-9aa7ebd9-2c7f-4bae-9513-091b0dc024ab')\"\n",
              "              title=\"Convert this dataframe to an interactive table.\"\n",
              "              style=\"display:none;\">\n",
              "        \n",
              "  <svg xmlns=\"http://www.w3.org/2000/svg\" height=\"24px\"viewBox=\"0 0 24 24\"\n",
              "       width=\"24px\">\n",
              "    <path d=\"M0 0h24v24H0V0z\" fill=\"none\"/>\n",
              "    <path d=\"M18.56 5.44l.94 2.06.94-2.06 2.06-.94-2.06-.94-.94-2.06-.94 2.06-2.06.94zm-11 1L8.5 8.5l.94-2.06 2.06-.94-2.06-.94L8.5 2.5l-.94 2.06-2.06.94zm10 10l.94 2.06.94-2.06 2.06-.94-2.06-.94-.94-2.06-.94 2.06-2.06.94z\"/><path d=\"M17.41 7.96l-1.37-1.37c-.4-.4-.92-.59-1.43-.59-.52 0-1.04.2-1.43.59L10.3 9.45l-7.72 7.72c-.78.78-.78 2.05 0 2.83L4 21.41c.39.39.9.59 1.41.59.51 0 1.02-.2 1.41-.59l7.78-7.78 2.81-2.81c.8-.78.8-2.07 0-2.86zM5.41 20L4 18.59l7.72-7.72 1.47 1.35L5.41 20z\"/>\n",
              "  </svg>\n",
              "      </button>\n",
              "      \n",
              "  <style>\n",
              "    .colab-df-container {\n",
              "      display:flex;\n",
              "      flex-wrap:wrap;\n",
              "      gap: 12px;\n",
              "    }\n",
              "\n",
              "    .colab-df-convert {\n",
              "      background-color: #E8F0FE;\n",
              "      border: none;\n",
              "      border-radius: 50%;\n",
              "      cursor: pointer;\n",
              "      display: none;\n",
              "      fill: #1967D2;\n",
              "      height: 32px;\n",
              "      padding: 0 0 0 0;\n",
              "      width: 32px;\n",
              "    }\n",
              "\n",
              "    .colab-df-convert:hover {\n",
              "      background-color: #E2EBFA;\n",
              "      box-shadow: 0px 1px 2px rgba(60, 64, 67, 0.3), 0px 1px 3px 1px rgba(60, 64, 67, 0.15);\n",
              "      fill: #174EA6;\n",
              "    }\n",
              "\n",
              "    [theme=dark] .colab-df-convert {\n",
              "      background-color: #3B4455;\n",
              "      fill: #D2E3FC;\n",
              "    }\n",
              "\n",
              "    [theme=dark] .colab-df-convert:hover {\n",
              "      background-color: #434B5C;\n",
              "      box-shadow: 0px 1px 3px 1px rgba(0, 0, 0, 0.15);\n",
              "      filter: drop-shadow(0px 1px 2px rgba(0, 0, 0, 0.3));\n",
              "      fill: #FFFFFF;\n",
              "    }\n",
              "  </style>\n",
              "\n",
              "      <script>\n",
              "        const buttonEl =\n",
              "          document.querySelector('#df-9aa7ebd9-2c7f-4bae-9513-091b0dc024ab button.colab-df-convert');\n",
              "        buttonEl.style.display =\n",
              "          google.colab.kernel.accessAllowed ? 'block' : 'none';\n",
              "\n",
              "        async function convertToInteractive(key) {\n",
              "          const element = document.querySelector('#df-9aa7ebd9-2c7f-4bae-9513-091b0dc024ab');\n",
              "          const dataTable =\n",
              "            await google.colab.kernel.invokeFunction('convertToInteractive',\n",
              "                                                     [key], {});\n",
              "          if (!dataTable) return;\n",
              "\n",
              "          const docLinkHtml = 'Like what you see? Visit the ' +\n",
              "            '<a target=\"_blank\" href=https://colab.research.google.com/notebooks/data_table.ipynb>data table notebook</a>'\n",
              "            + ' to learn more about interactive tables.';\n",
              "          element.innerHTML = '';\n",
              "          dataTable['output_type'] = 'display_data';\n",
              "          await google.colab.output.renderOutput(dataTable, element);\n",
              "          const docLink = document.createElement('div');\n",
              "          docLink.innerHTML = docLinkHtml;\n",
              "          element.appendChild(docLink);\n",
              "        }\n",
              "      </script>\n",
              "    </div>\n",
              "  </div>\n",
              "  "
            ]
          },
          "metadata": {},
          "execution_count": 28
        }
      ]
    },
    {
      "cell_type": "code",
      "source": [
        "ids=df[\"Image_id\"].to_list()\n",
        "labels=df[\"Label\"].to_list()"
      ],
      "metadata": {
        "id": "8PsYT5jo14Ip"
      },
      "execution_count": 29,
      "outputs": []
    },
    {
      "cell_type": "code",
      "source": [
        "import tensorflow as tf\n",
        "import tensorflow.keras as keras\n",
        "from tensorflow.keras.callbacks import ModelCheckpoint\n",
        "from tensorflow.keras.layers import Conv2D, Flatten, MaxPooling2D,Dense,Dropout\n",
        "from tensorflow.keras.models  import Sequential\n",
        "from tensorflow.keras.preprocessing.image import ImageDataGenerator"
      ],
      "metadata": {
        "id": "SNAjk56QWPSX"
      },
      "execution_count": 45,
      "outputs": []
    },
    {
      "cell_type": "code",
      "source": [
        "from numpy.ma.core import resize\n",
        "x_px=300\n",
        "y_px=300\n",
        "bpc=3\n",
        "data_path=\"/content/pic/\"\n",
        "batch_size=10\n",
        "train=ImageDataGenerator(horizontal_flip=True, vertical_flip=True,validation_split=0.1,rescale=1./255,\n",
        "                         shear_range = 0.05,zoom_range = 0.05,\n",
        "                         width_shift_range = 0.0,\n",
        "                         height_shift_range = 0.0,)\n",
        "\n",
        "test=ImageDataGenerator(rescale=1./255,validation_split=0.1)\n",
        "\n",
        "\n",
        "\n",
        "\n",
        "print(f\"X: {x_px}, Y: {y_px}\")\n",
        "train_generator=train.flow_from_dataframe(df,x_col=\"fullpath\",y_col=\"cat\",target_size=(x_px,y_px),batch_size=batch_size,class_mode='binary',subset='training',color_mode=\"rgb\")\n",
        "test_generator = test.flow_from_dataframe(df,x_col=\"fullpath\",y_col=\"cat\",target_size=(x_px,y_px),batch_size=batch_size,class_mode='binary',subset='validation',color_mode=\"rgb\")\n"
      ],
      "metadata": {
        "id": "_tQPduXGFi4d",
        "colab": {
          "base_uri": "https://localhost:8080/"
        },
        "outputId": "4b85dd47-af0b-4685-d1c8-bb41c8e76e94"
      },
      "execution_count": 50,
      "outputs": [
        {
          "output_type": "stream",
          "name": "stdout",
          "text": [
            "X: 300, Y: 300\n",
            "Found 1458 validated image filenames belonging to 2 classes.\n",
            "Found 161 validated image filenames belonging to 2 classes.\n"
          ]
        }
      ]
    },
    {
      "cell_type": "code",
      "source": [
        ""
      ],
      "metadata": {
        "id": "v9WuCmUggsRh"
      },
      "execution_count": 50,
      "outputs": []
    },
    {
      "cell_type": "code",
      "source": [
        "# Build Model\n",
        "# Importáld a megfelelő rétegeket\n",
        "from tensorflow.keras.layers import Input,Dense,Embedding,LSTM,TimeDistributed, Flatten, Bidirectional, Conv2D, Dropout,Convolution2D, Conv2DTranspose\n",
        "from tensorflow.keras.layers import MaxPooling2D, Rescaling,RandomFlip,RandomRotation, Reshape,BatchNormalization,MaxPooling3D\n",
        "\n",
        "from tensorflow.keras.models import Model\n",
        "from tensorflow.keras.optimizers import Adadelta,Adam,SGD,Nadam,Ftrl,SGD,Adamax\n",
        "from tensorflow.keras.losses import sparse_categorical_crossentropy,categorical_crossentropy, mean_squared_error\n",
        "from tensorflow.keras import backend as K\n",
        "from keras.regularizers import l1\n",
        "from keras.initializers import RandomNormal,Zeros,GlorotUniform\n",
        "\n",
        "K.clear_session()\n",
        "\n",
        "\n",
        "\n",
        "inputs= Input(shape=(x_px,y_px,bpc))\n",
        "e = Conv2D(128, (2, 2), activation='relu')(inputs)\n",
        "e = MaxPooling2D((2, 2))(e)\n",
        "\n",
        "e = Conv2D(64, (2, 2), activation='relu')(e)\n",
        "e = MaxPooling2D((2, 2))(e)\n",
        "e = Conv2D(128, (2, 2), activation='relu')(e)\n",
        "e = MaxPooling2D((2, 2))(e)\n",
        "\n",
        "e = Conv2D(128, (2, 2), activation='relu')(e)\n",
        "e = MaxPooling2D((2, 2))(e)\n",
        "\n",
        "\n",
        "l = Flatten()(e)\n",
        "        #l = Dense(1920, activation='sigmoid')(l)\n",
        "         # overfitting compensation ??\n",
        "        #l=Dropout(0.7)(l)\n",
        "        #l = Dense(74, activation='sigmoid')(l)\n",
        "    #l=Dropout(0.6)(l)\n",
        "    #l = Dense(56, activation='sigmoid')(l)\n",
        "l=Dropout(0.15)(l)  # 0,95 95%\n",
        "\n",
        "l=Dense(100,activation=\"relu\")(l)\n",
        "decoded = Dense(2, activation='softmax')(l)\n",
        "\n",
        "\n",
        "convmodel = Model(inputs, decoded)\n"
      ],
      "metadata": {
        "id": "Dq1iuT2AiGXk"
      },
      "execution_count": 51,
      "outputs": []
    },
    {
      "cell_type": "code",
      "source": [
        "\n",
        "cce = tf.keras.losses.SparseCategoricalCrossentropy()\n",
        "acc = tf.keras.metrics.SparseCategoricalAccuracy()\n",
        "optimizer=Adam(learning_rate=0.0005)\n",
        "convmodel.compile(loss=cce, optimizer=optimizer, metrics=[acc])\n",
        "convmodel.summary()"
      ],
      "metadata": {
        "colab": {
          "base_uri": "https://localhost:8080/"
        },
        "id": "nnkq15x9iyAN",
        "outputId": "127cf77d-92a4-49b1-a132-b5dfcab37967"
      },
      "execution_count": 52,
      "outputs": [
        {
          "output_type": "stream",
          "name": "stdout",
          "text": [
            "Model: \"model\"\n",
            "_________________________________________________________________\n",
            " Layer (type)                Output Shape              Param #   \n",
            "=================================================================\n",
            " input_1 (InputLayer)        [(None, 300, 300, 3)]     0         \n",
            "                                                                 \n",
            " conv2d (Conv2D)             (None, 299, 299, 128)     1664      \n",
            "                                                                 \n",
            " max_pooling2d (MaxPooling2D  (None, 149, 149, 128)    0         \n",
            " )                                                               \n",
            "                                                                 \n",
            " conv2d_1 (Conv2D)           (None, 148, 148, 64)      32832     \n",
            "                                                                 \n",
            " max_pooling2d_1 (MaxPooling  (None, 74, 74, 64)       0         \n",
            " 2D)                                                             \n",
            "                                                                 \n",
            " conv2d_2 (Conv2D)           (None, 73, 73, 128)       32896     \n",
            "                                                                 \n",
            " max_pooling2d_2 (MaxPooling  (None, 36, 36, 128)      0         \n",
            " 2D)                                                             \n",
            "                                                                 \n",
            " conv2d_3 (Conv2D)           (None, 35, 35, 128)       65664     \n",
            "                                                                 \n",
            " max_pooling2d_3 (MaxPooling  (None, 17, 17, 128)      0         \n",
            " 2D)                                                             \n",
            "                                                                 \n",
            " flatten (Flatten)           (None, 36992)             0         \n",
            "                                                                 \n",
            " dropout (Dropout)           (None, 36992)             0         \n",
            "                                                                 \n",
            " dense (Dense)               (None, 100)               3699300   \n",
            "                                                                 \n",
            " dense_1 (Dense)             (None, 2)                 202       \n",
            "                                                                 \n",
            "=================================================================\n",
            "Total params: 3,832,558\n",
            "Trainable params: 3,832,558\n",
            "Non-trainable params: 0\n",
            "_________________________________________________________________\n"
          ]
        }
      ]
    },
    {
      "cell_type": "code",
      "source": [
        "history = convmodel.fit(train_generator, epochs=100,  validation_data=test_generator,batch_size=1)"
      ],
      "metadata": {
        "colab": {
          "base_uri": "https://localhost:8080/"
        },
        "id": "lC1u6bQrjFwm",
        "outputId": "d01bc224-c52c-4e3b-e7d2-75d5f15fc494"
      },
      "execution_count": null,
      "outputs": [
        {
          "output_type": "stream",
          "name": "stdout",
          "text": [
            "Epoch 1/100\n",
            "146/146 [==============================] - 519s 4s/step - loss: 0.6662 - sparse_categorical_accuracy: 0.6049 - val_loss: 0.5540 - val_sparse_categorical_accuracy: 0.6957\n",
            "Epoch 2/100\n",
            "146/146 [==============================] - 504s 3s/step - loss: 0.4735 - sparse_categorical_accuracy: 0.7750 - val_loss: 0.4116 - val_sparse_categorical_accuracy: 0.8012\n",
            "Epoch 3/100\n",
            "146/146 [==============================] - 511s 3s/step - loss: 0.3791 - sparse_categorical_accuracy: 0.8320 - val_loss: 0.3667 - val_sparse_categorical_accuracy: 0.8447\n",
            "Epoch 4/100\n",
            " 81/146 [===============>..............] - ETA: 3:41 - loss: 0.2679 - sparse_categorical_accuracy: 0.8901"
          ]
        }
      ]
    },
    {
      "cell_type": "code",
      "source": [
        ""
      ],
      "metadata": {
        "id": "QQFeqexETFhK"
      },
      "execution_count": null,
      "outputs": []
    }
  ]
}