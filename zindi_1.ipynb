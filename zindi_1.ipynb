{
  "nbformat": 4,
  "nbformat_minor": 0,
  "metadata": {
    "colab": {
      "name": "zindi_1.ipynb",
      "provenance": [],
      "authorship_tag": "ABX9TyOvy5HDXLBmLtF1gLU64vqm",
      "include_colab_link": true
    },
    "kernelspec": {
      "name": "python3",
      "display_name": "Python 3"
    },
    "language_info": {
      "name": "python"
    },
    "accelerator": "GPU"
  },
  "cells": [
    {
      "cell_type": "markdown",
      "metadata": {
        "id": "view-in-github",
        "colab_type": "text"
      },
      "source": [
        "<a href=\"https://colab.research.google.com/github/sipocz/makerere/blob/main/zindi_1.ipynb\" target=\"_parent\"><img src=\"https://colab.research.google.com/assets/colab-badge.svg\" alt=\"Open In Colab\"/></a>"
      ]
    },
    {
      "cell_type": "code",
      "source": [
        "!pip install Augmentor"
      ],
      "metadata": {
        "colab": {
          "base_uri": "https://localhost:8080/"
        },
        "id": "oNSaUxKc5aeV",
        "outputId": "29ffa0c3-07a9-41c1-a0d3-08fd2c75c168"
      },
      "execution_count": 1,
      "outputs": [
        {
          "output_type": "stream",
          "name": "stdout",
          "text": [
            "Collecting Augmentor\n",
            "  Downloading Augmentor-0.2.10-py2.py3-none-any.whl (38 kB)\n",
            "Requirement already satisfied: Pillow>=5.2.0 in /usr/local/lib/python3.7/dist-packages (from Augmentor) (7.1.2)\n",
            "Requirement already satisfied: future>=0.16.0 in /usr/local/lib/python3.7/dist-packages (from Augmentor) (0.16.0)\n",
            "Requirement already satisfied: numpy>=1.11.0 in /usr/local/lib/python3.7/dist-packages (from Augmentor) (1.21.6)\n",
            "Requirement already satisfied: tqdm>=4.9.0 in /usr/local/lib/python3.7/dist-packages (from Augmentor) (4.64.0)\n",
            "Installing collected packages: Augmentor\n",
            "Successfully installed Augmentor-0.2.10\n"
          ]
        }
      ]
    },
    {
      "cell_type": "code",
      "source": [
        "url=\"https://api.zindi.africa/v1/competitions/makerere-fall-armyworm-crop-challenge/files/Images.zip\"\n",
        "url_train=\"https://api.zindi.africa/v1/competitions/makerere-fall-armyworm-crop-challenge/files/Train.csv\"\n",
        "url_test=\"https://api.zindi.africa/v1/competitions/makerere-fall-armyworm-crop-challenge/files/Test.csv\"\n",
        "url_sample_s=\"https://api.zindi.africa/v1/competitions/makerere-fall-armyworm-crop-challenge/files/SampleSubmission.csv\"\n",
        "auth={'auth_token': \"KXxbUBzf4GQ6pqkNGC8zJt8B\"}\n"
      ],
      "metadata": {
        "id": "OzEtNGlU_Htj"
      },
      "execution_count": 2,
      "outputs": []
    },
    {
      "cell_type": "code",
      "source": [
        "# Function to download data\n",
        "def zindi_data_downloader(data_url, auth, file_name):\n",
        "    import requests\n",
        "    from tqdm.auto import tqdm\n",
        "    # Get the competition data\n",
        "    x = requests.post(data_url, data = auth,stream=True)\n",
        "    target_path = 'data.zip'\n",
        "\n",
        "    handle = open(file_name, \"wb\")\n",
        "    for chunk in x.iter_content(chunk_size=512):\n",
        "        if chunk:  # filter out keep-alive new chunks\n",
        "            handle.write(chunk)\n",
        "    handle.close()"
      ],
      "metadata": {
        "id": "ufyucrm1_Otq"
      },
      "execution_count": 3,
      "outputs": []
    },
    {
      "cell_type": "code",
      "source": [
        "zindi_data_downloader(url,auth,\"Images.zip\")"
      ],
      "metadata": {
        "id": "WD02OVWM_cDN"
      },
      "execution_count": 4,
      "outputs": []
    },
    {
      "cell_type": "code",
      "source": [
        "!mkdir pic"
      ],
      "metadata": {
        "id": "gm1xCIN-tRbZ"
      },
      "execution_count": 5,
      "outputs": []
    },
    {
      "cell_type": "code",
      "source": [
        "!unzip -q  /content/Images.zip -d /content/pic"
      ],
      "metadata": {
        "id": "euoYhDVb_7AO"
      },
      "execution_count": 6,
      "outputs": []
    },
    {
      "cell_type": "code",
      "source": [
        "!rm *.zip"
      ],
      "metadata": {
        "id": "pXtZVWQEtZQ0"
      },
      "execution_count": 7,
      "outputs": []
    },
    {
      "cell_type": "code",
      "source": [
        "zindi_data_downloader(url_train,auth,\"Train.csv\")\n",
        "zindi_data_downloader(url_test,auth,\"Test.csv\")\n",
        "zindi_data_downloader(url_sample_s,auth,\"SampleSubmission.csv\")\n",
        "\n"
      ],
      "metadata": {
        "id": "9z6lq1ae_6-t"
      },
      "execution_count": 8,
      "outputs": []
    },
    {
      "cell_type": "code",
      "source": [
        ""
      ],
      "metadata": {
        "id": "MENZUFi_1t2V"
      },
      "execution_count": 8,
      "outputs": []
    },
    {
      "cell_type": "code",
      "source": [
        "import pandas as pd"
      ],
      "metadata": {
        "id": "7NfjIG67xvi1"
      },
      "execution_count": 9,
      "outputs": []
    },
    {
      "cell_type": "code",
      "source": [
        "df=pd.read_csv(\"Train.csv\")\n",
        "df[\"fullpath\"]=\"/content/pic/\"+df[\"Image_id\"]\n",
        "o=[\"zero\" if i==0 else \"one\" for i in df[\"Label\"].values ]\n",
        "df[\"cat\"]=o"
      ],
      "metadata": {
        "id": "vEeRs0qN0MGP"
      },
      "execution_count": 10,
      "outputs": []
    },
    {
      "cell_type": "code",
      "source": [
        "df.head()"
      ],
      "metadata": {
        "colab": {
          "base_uri": "https://localhost:8080/",
          "height": 206
        },
        "id": "AHgEhey4A_5E",
        "outputId": "f1668c8e-9956-4511-c630-fe2374193178"
      },
      "execution_count": 12,
      "outputs": [
        {
          "output_type": "execute_result",
          "data": {
            "text/plain": [
              "               Image_id  Label                           fullpath   cat\n",
              "0  id_02amazy34fgh2.jpg      1  /content/pic/id_02amazy34fgh2.jpg   one\n",
              "1  id_02mh3w48pmyc9.jpg      0  /content/pic/id_02mh3w48pmyc9.jpg  zero\n",
              "2  id_02rpb463h9d3w.jpg      0  /content/pic/id_02rpb463h9d3w.jpg  zero\n",
              "3  id_02wc3jeeao8ol.jpg      1  /content/pic/id_02wc3jeeao8ol.jpg   one\n",
              "4  id_03t2hapb8wz8p.jpg      1  /content/pic/id_03t2hapb8wz8p.jpg   one"
            ],
            "text/html": [
              "\n",
              "  <div id=\"df-46606a16-6126-4c82-9c82-9fa02143e237\">\n",
              "    <div class=\"colab-df-container\">\n",
              "      <div>\n",
              "<style scoped>\n",
              "    .dataframe tbody tr th:only-of-type {\n",
              "        vertical-align: middle;\n",
              "    }\n",
              "\n",
              "    .dataframe tbody tr th {\n",
              "        vertical-align: top;\n",
              "    }\n",
              "\n",
              "    .dataframe thead th {\n",
              "        text-align: right;\n",
              "    }\n",
              "</style>\n",
              "<table border=\"1\" class=\"dataframe\">\n",
              "  <thead>\n",
              "    <tr style=\"text-align: right;\">\n",
              "      <th></th>\n",
              "      <th>Image_id</th>\n",
              "      <th>Label</th>\n",
              "      <th>fullpath</th>\n",
              "      <th>cat</th>\n",
              "    </tr>\n",
              "  </thead>\n",
              "  <tbody>\n",
              "    <tr>\n",
              "      <th>0</th>\n",
              "      <td>id_02amazy34fgh2.jpg</td>\n",
              "      <td>1</td>\n",
              "      <td>/content/pic/id_02amazy34fgh2.jpg</td>\n",
              "      <td>one</td>\n",
              "    </tr>\n",
              "    <tr>\n",
              "      <th>1</th>\n",
              "      <td>id_02mh3w48pmyc9.jpg</td>\n",
              "      <td>0</td>\n",
              "      <td>/content/pic/id_02mh3w48pmyc9.jpg</td>\n",
              "      <td>zero</td>\n",
              "    </tr>\n",
              "    <tr>\n",
              "      <th>2</th>\n",
              "      <td>id_02rpb463h9d3w.jpg</td>\n",
              "      <td>0</td>\n",
              "      <td>/content/pic/id_02rpb463h9d3w.jpg</td>\n",
              "      <td>zero</td>\n",
              "    </tr>\n",
              "    <tr>\n",
              "      <th>3</th>\n",
              "      <td>id_02wc3jeeao8ol.jpg</td>\n",
              "      <td>1</td>\n",
              "      <td>/content/pic/id_02wc3jeeao8ol.jpg</td>\n",
              "      <td>one</td>\n",
              "    </tr>\n",
              "    <tr>\n",
              "      <th>4</th>\n",
              "      <td>id_03t2hapb8wz8p.jpg</td>\n",
              "      <td>1</td>\n",
              "      <td>/content/pic/id_03t2hapb8wz8p.jpg</td>\n",
              "      <td>one</td>\n",
              "    </tr>\n",
              "  </tbody>\n",
              "</table>\n",
              "</div>\n",
              "      <button class=\"colab-df-convert\" onclick=\"convertToInteractive('df-46606a16-6126-4c82-9c82-9fa02143e237')\"\n",
              "              title=\"Convert this dataframe to an interactive table.\"\n",
              "              style=\"display:none;\">\n",
              "        \n",
              "  <svg xmlns=\"http://www.w3.org/2000/svg\" height=\"24px\"viewBox=\"0 0 24 24\"\n",
              "       width=\"24px\">\n",
              "    <path d=\"M0 0h24v24H0V0z\" fill=\"none\"/>\n",
              "    <path d=\"M18.56 5.44l.94 2.06.94-2.06 2.06-.94-2.06-.94-.94-2.06-.94 2.06-2.06.94zm-11 1L8.5 8.5l.94-2.06 2.06-.94-2.06-.94L8.5 2.5l-.94 2.06-2.06.94zm10 10l.94 2.06.94-2.06 2.06-.94-2.06-.94-.94-2.06-.94 2.06-2.06.94z\"/><path d=\"M17.41 7.96l-1.37-1.37c-.4-.4-.92-.59-1.43-.59-.52 0-1.04.2-1.43.59L10.3 9.45l-7.72 7.72c-.78.78-.78 2.05 0 2.83L4 21.41c.39.39.9.59 1.41.59.51 0 1.02-.2 1.41-.59l7.78-7.78 2.81-2.81c.8-.78.8-2.07 0-2.86zM5.41 20L4 18.59l7.72-7.72 1.47 1.35L5.41 20z\"/>\n",
              "  </svg>\n",
              "      </button>\n",
              "      \n",
              "  <style>\n",
              "    .colab-df-container {\n",
              "      display:flex;\n",
              "      flex-wrap:wrap;\n",
              "      gap: 12px;\n",
              "    }\n",
              "\n",
              "    .colab-df-convert {\n",
              "      background-color: #E8F0FE;\n",
              "      border: none;\n",
              "      border-radius: 50%;\n",
              "      cursor: pointer;\n",
              "      display: none;\n",
              "      fill: #1967D2;\n",
              "      height: 32px;\n",
              "      padding: 0 0 0 0;\n",
              "      width: 32px;\n",
              "    }\n",
              "\n",
              "    .colab-df-convert:hover {\n",
              "      background-color: #E2EBFA;\n",
              "      box-shadow: 0px 1px 2px rgba(60, 64, 67, 0.3), 0px 1px 3px 1px rgba(60, 64, 67, 0.15);\n",
              "      fill: #174EA6;\n",
              "    }\n",
              "\n",
              "    [theme=dark] .colab-df-convert {\n",
              "      background-color: #3B4455;\n",
              "      fill: #D2E3FC;\n",
              "    }\n",
              "\n",
              "    [theme=dark] .colab-df-convert:hover {\n",
              "      background-color: #434B5C;\n",
              "      box-shadow: 0px 1px 3px 1px rgba(0, 0, 0, 0.15);\n",
              "      filter: drop-shadow(0px 1px 2px rgba(0, 0, 0, 0.3));\n",
              "      fill: #FFFFFF;\n",
              "    }\n",
              "  </style>\n",
              "\n",
              "      <script>\n",
              "        const buttonEl =\n",
              "          document.querySelector('#df-46606a16-6126-4c82-9c82-9fa02143e237 button.colab-df-convert');\n",
              "        buttonEl.style.display =\n",
              "          google.colab.kernel.accessAllowed ? 'block' : 'none';\n",
              "\n",
              "        async function convertToInteractive(key) {\n",
              "          const element = document.querySelector('#df-46606a16-6126-4c82-9c82-9fa02143e237');\n",
              "          const dataTable =\n",
              "            await google.colab.kernel.invokeFunction('convertToInteractive',\n",
              "                                                     [key], {});\n",
              "          if (!dataTable) return;\n",
              "\n",
              "          const docLinkHtml = 'Like what you see? Visit the ' +\n",
              "            '<a target=\"_blank\" href=https://colab.research.google.com/notebooks/data_table.ipynb>data table notebook</a>'\n",
              "            + ' to learn more about interactive tables.';\n",
              "          element.innerHTML = '';\n",
              "          dataTable['output_type'] = 'display_data';\n",
              "          await google.colab.output.renderOutput(dataTable, element);\n",
              "          const docLink = document.createElement('div');\n",
              "          docLink.innerHTML = docLinkHtml;\n",
              "          element.appendChild(docLink);\n",
              "        }\n",
              "      </script>\n",
              "    </div>\n",
              "  </div>\n",
              "  "
            ]
          },
          "metadata": {},
          "execution_count": 12
        }
      ]
    },
    {
      "cell_type": "code",
      "source": [
        "ids=df[\"Image_id\"].to_list()\n",
        "labels=df[\"Label\"].to_list()"
      ],
      "metadata": {
        "id": "8PsYT5jo14Ip"
      },
      "execution_count": 13,
      "outputs": []
    },
    {
      "cell_type": "code",
      "source": [
        "import tensorflow as tf\n",
        "import tensorflow.keras as keras\n",
        "from tensorflow.keras.callbacks import ModelCheckpoint\n",
        "from tensorflow.keras.layers import Conv2D, Flatten, MaxPooling2D,Dense,Dropout\n",
        "from tensorflow.keras.models  import Sequential\n",
        "from tensorflow.keras.preprocessing.image import ImageDataGenerator"
      ],
      "metadata": {
        "id": "SNAjk56QWPSX"
      },
      "execution_count": 14,
      "outputs": []
    },
    {
      "cell_type": "code",
      "source": [
        "from numpy.ma.core import resize\n",
        "x_px=500\n",
        "y_px=500\n",
        "bpc=3\n",
        "data_path=\"/content/pic/\"\n",
        "batch_size=10\n",
        "train=ImageDataGenerator(horizontal_flip=True, vertical_flip=True,validation_split=0.1,rescale=1./255,\n",
        "                         shear_range = 0.15,zoom_range = 0.15,\n",
        "                         width_shift_range = 0.15,\n",
        "                         height_shift_range = 0.15,)\n",
        "\n",
        "test=ImageDataGenerator(rescale=1./255,validation_split=0.1)\n",
        "\n",
        "\n",
        "\n",
        "\n",
        "print(f\"X: {x_px}, Y: {y_px}\")\n",
        "train_generator=train.flow_from_dataframe(df,x_col=\"fullpath\",y_col=\"cat\",target_size=(x_px,y_px),batch_size=batch_size,class_mode='binary',subset='training',color_mode=\"rgb\")\n",
        "test_generator = test.flow_from_dataframe(df,x_col=\"fullpath\",y_col=\"cat\",target_size=(x_px,y_px),batch_size=batch_size,class_mode='binary',subset='validation',color_mode=\"rgb\")\n"
      ],
      "metadata": {
        "id": "_tQPduXGFi4d",
        "colab": {
          "base_uri": "https://localhost:8080/"
        },
        "outputId": "b53c6b9f-7333-4887-bf86-0017cdaa8fa8"
      },
      "execution_count": 15,
      "outputs": [
        {
          "output_type": "stream",
          "name": "stdout",
          "text": [
            "X: 500, Y: 500\n",
            "Found 1458 validated image filenames belonging to 2 classes.\n",
            "Found 161 validated image filenames belonging to 2 classes.\n"
          ]
        }
      ]
    },
    {
      "cell_type": "code",
      "source": [
        ""
      ],
      "metadata": {
        "id": "v9WuCmUggsRh"
      },
      "execution_count": 15,
      "outputs": []
    },
    {
      "cell_type": "code",
      "source": [
        "# Build Model\n",
        "# Importáld a megfelelő rétegeket\n",
        "from tensorflow.keras.layers import Input,Dense,Embedding,LSTM,TimeDistributed, Flatten, Bidirectional, Conv2D, Dropout,Convolution2D, Conv2DTranspose\n",
        "from tensorflow.keras.layers import MaxPooling2D, Rescaling,RandomFlip,RandomRotation, Reshape,BatchNormalization,MaxPooling3D\n",
        "\n",
        "from tensorflow.keras.models import Model\n",
        "from tensorflow.keras.optimizers import Adadelta,Adam,SGD,Nadam,Ftrl,SGD,Adamax\n",
        "from tensorflow.keras.losses import sparse_categorical_crossentropy,categorical_crossentropy, mean_squared_error\n",
        "from tensorflow.keras import backend as K\n",
        "from keras.regularizers import l1\n",
        "from keras.initializers import RandomNormal,Zeros,GlorotUniform\n",
        "\n",
        "K.clear_session()\n",
        "\n",
        "\n",
        "\n",
        "inputs= Input(shape=(x_px,y_px,bpc))\n",
        "e = Conv2D(128, (2, 2), activation='relu')(inputs)\n",
        "e = MaxPooling2D((2, 2))(e)\n",
        "\n",
        "e = Conv2D(64, (2, 2), activation='relu')(e)\n",
        "e = MaxPooling2D((2, 2))(e)\n",
        "e = Conv2D(128, (2, 2), activation='relu')(e)\n",
        "e = MaxPooling2D((2, 2))(e)\n",
        "\n",
        "\n",
        "\n",
        "l = Flatten()(e)\n",
        "        #l = Dense(1920, activation='sigmoid')(l)\n",
        "         # overfitting compensation ??\n",
        "        #l=Dropout(0.7)(l)\n",
        "        #l = Dense(74, activation='sigmoid')(l)\n",
        "    #l=Dropout(0.6)(l)\n",
        "    #l = Dense(56, activation='sigmoid')(l)\n",
        "l=Dropout(0.95)(l)\n",
        "\n",
        "\n",
        "decoded = Dense(2, activation='softmax')(l)\n",
        "\n",
        "\n",
        "convmodel = Model(inputs, decoded)\n"
      ],
      "metadata": {
        "id": "Dq1iuT2AiGXk"
      },
      "execution_count": 16,
      "outputs": []
    },
    {
      "cell_type": "code",
      "source": [
        "\n",
        "cce = tf.keras.losses.SparseCategoricalCrossentropy()\n",
        "acc = tf.keras.metrics.SparseCategoricalAccuracy()\n",
        "optimizer=Adam()\n",
        "convmodel.compile(loss=cce, optimizer=optimizer, metrics=[acc])\n",
        "convmodel.summary()"
      ],
      "metadata": {
        "colab": {
          "base_uri": "https://localhost:8080/"
        },
        "id": "nnkq15x9iyAN",
        "outputId": "5271b336-d71a-4a06-b6b8-057a95f23c4d"
      },
      "execution_count": 17,
      "outputs": [
        {
          "output_type": "stream",
          "name": "stdout",
          "text": [
            "Model: \"model\"\n",
            "_________________________________________________________________\n",
            " Layer (type)                Output Shape              Param #   \n",
            "=================================================================\n",
            " input_1 (InputLayer)        [(None, 500, 500, 3)]     0         \n",
            "                                                                 \n",
            " conv2d (Conv2D)             (None, 499, 499, 128)     1664      \n",
            "                                                                 \n",
            " max_pooling2d (MaxPooling2D  (None, 249, 249, 128)    0         \n",
            " )                                                               \n",
            "                                                                 \n",
            " conv2d_1 (Conv2D)           (None, 248, 248, 64)      32832     \n",
            "                                                                 \n",
            " max_pooling2d_1 (MaxPooling  (None, 124, 124, 64)     0         \n",
            " 2D)                                                             \n",
            "                                                                 \n",
            " conv2d_2 (Conv2D)           (None, 123, 123, 128)     32896     \n",
            "                                                                 \n",
            " max_pooling2d_2 (MaxPooling  (None, 61, 61, 128)      0         \n",
            " 2D)                                                             \n",
            "                                                                 \n",
            " flatten (Flatten)           (None, 476288)            0         \n",
            "                                                                 \n",
            " dropout (Dropout)           (None, 476288)            0         \n",
            "                                                                 \n",
            " dense (Dense)               (None, 2)                 952578    \n",
            "                                                                 \n",
            "=================================================================\n",
            "Total params: 1,019,970\n",
            "Trainable params: 1,019,970\n",
            "Non-trainable params: 0\n",
            "_________________________________________________________________\n"
          ]
        }
      ]
    },
    {
      "cell_type": "code",
      "source": [
        "  history = convmodel.fit(train_generator, epochs=100,  validation_data=test_generator,batch_size=1)"
      ],
      "metadata": {
        "colab": {
          "base_uri": "https://localhost:8080/"
        },
        "id": "lC1u6bQrjFwm",
        "outputId": "715fff71-b17c-4781-9ebb-8c683974d837"
      },
      "execution_count": null,
      "outputs": [
        {
          "output_type": "stream",
          "name": "stdout",
          "text": [
            "Epoch 1/100\n",
            "146/146 [==============================] - 137s 857ms/step - loss: 0.7356 - sparse_categorical_accuracy: 0.4897 - val_loss: 0.6847 - val_sparse_categorical_accuracy: 0.5093\n",
            "Epoch 2/100\n",
            "146/146 [==============================] - 125s 856ms/step - loss: 0.6856 - sparse_categorical_accuracy: 0.5576 - val_loss: 0.6802 - val_sparse_categorical_accuracy: 0.6708\n",
            "Epoch 3/100\n",
            "146/146 [==============================] - 123s 841ms/step - loss: 0.6717 - sparse_categorical_accuracy: 0.5898 - val_loss: 0.9595 - val_sparse_categorical_accuracy: 0.5404\n",
            "Epoch 4/100\n",
            "146/146 [==============================] - 125s 852ms/step - loss: 0.6787 - sparse_categorical_accuracy: 0.5864 - val_loss: 0.6766 - val_sparse_categorical_accuracy: 0.5590\n",
            "Epoch 5/100\n",
            "146/146 [==============================] - 127s 868ms/step - loss: 0.6588 - sparse_categorical_accuracy: 0.6241 - val_loss: 0.5951 - val_sparse_categorical_accuracy: 0.7516\n",
            "Epoch 6/100\n",
            "146/146 [==============================] - 126s 865ms/step - loss: 0.6137 - sparse_categorical_accuracy: 0.6996 - val_loss: 0.5744 - val_sparse_categorical_accuracy: 0.7764\n",
            "Epoch 7/100\n",
            "146/146 [==============================] - 121s 827ms/step - loss: 0.5846 - sparse_categorical_accuracy: 0.7250 - val_loss: 0.7019 - val_sparse_categorical_accuracy: 0.8199\n",
            "Epoch 8/100\n",
            "146/146 [==============================] - 124s 847ms/step - loss: 0.5855 - sparse_categorical_accuracy: 0.7366 - val_loss: 0.6344 - val_sparse_categorical_accuracy: 0.8261\n",
            "Epoch 9/100\n",
            "146/146 [==============================] - 121s 828ms/step - loss: 0.5294 - sparse_categorical_accuracy: 0.7771 - val_loss: 0.4684 - val_sparse_categorical_accuracy: 0.8199\n",
            "Epoch 10/100\n",
            "146/146 [==============================] - 121s 826ms/step - loss: 0.4934 - sparse_categorical_accuracy: 0.8018 - val_loss: 0.7704 - val_sparse_categorical_accuracy: 0.7950\n",
            "Epoch 11/100\n",
            "146/146 [==============================] - 121s 828ms/step - loss: 0.5034 - sparse_categorical_accuracy: 0.7840 - val_loss: 0.4801 - val_sparse_categorical_accuracy: 0.8447\n",
            "Epoch 12/100\n",
            "146/146 [==============================] - 119s 816ms/step - loss: 0.4862 - sparse_categorical_accuracy: 0.7963 - val_loss: 0.6142 - val_sparse_categorical_accuracy: 0.8696\n",
            "Epoch 13/100\n",
            "146/146 [==============================] - 119s 812ms/step - loss: 0.4669 - sparse_categorical_accuracy: 0.8086 - val_loss: 0.3556 - val_sparse_categorical_accuracy: 0.8820\n",
            "Epoch 14/100\n",
            "146/146 [==============================] - 118s 809ms/step - loss: 0.4477 - sparse_categorical_accuracy: 0.8196 - val_loss: 0.4697 - val_sparse_categorical_accuracy: 0.8447\n",
            "Epoch 15/100\n",
            "146/146 [==============================] - 120s 824ms/step - loss: 0.5186 - sparse_categorical_accuracy: 0.7826 - val_loss: 0.5582 - val_sparse_categorical_accuracy: 0.7826\n",
            "Epoch 16/100\n",
            "146/146 [==============================] - 117s 803ms/step - loss: 0.4829 - sparse_categorical_accuracy: 0.7888 - val_loss: 0.8148 - val_sparse_categorical_accuracy: 0.8323\n",
            "Epoch 17/100\n",
            "146/146 [==============================] - 117s 802ms/step - loss: 0.4396 - sparse_categorical_accuracy: 0.8402 - val_loss: 0.4972 - val_sparse_categorical_accuracy: 0.8261\n",
            "Epoch 18/100\n",
            "146/146 [==============================] - 118s 808ms/step - loss: 0.4800 - sparse_categorical_accuracy: 0.8025 - val_loss: 0.3830 - val_sparse_categorical_accuracy: 0.8696\n",
            "Epoch 19/100\n",
            "146/146 [==============================] - 122s 833ms/step - loss: 0.4610 - sparse_categorical_accuracy: 0.8217 - val_loss: 0.3734 - val_sparse_categorical_accuracy: 0.8696\n",
            "Epoch 20/100\n",
            "146/146 [==============================] - 122s 833ms/step - loss: 0.4020 - sparse_categorical_accuracy: 0.8464 - val_loss: 0.3981 - val_sparse_categorical_accuracy: 0.8758\n",
            "Epoch 21/100\n",
            "146/146 [==============================] - 119s 816ms/step - loss: 0.3915 - sparse_categorical_accuracy: 0.8395 - val_loss: 0.2790 - val_sparse_categorical_accuracy: 0.8944\n",
            "Epoch 22/100\n",
            "146/146 [==============================] - 118s 806ms/step - loss: 0.4219 - sparse_categorical_accuracy: 0.8326 - val_loss: 0.3015 - val_sparse_categorical_accuracy: 0.8882\n",
            "Epoch 23/100\n",
            "146/146 [==============================] - 123s 844ms/step - loss: 0.3928 - sparse_categorical_accuracy: 0.8429 - val_loss: 0.3833 - val_sparse_categorical_accuracy: 0.8820\n",
            "Epoch 24/100\n",
            "146/146 [==============================] - 123s 839ms/step - loss: 0.3709 - sparse_categorical_accuracy: 0.8512 - val_loss: 0.5792 - val_sparse_categorical_accuracy: 0.8261\n",
            "Epoch 25/100\n",
            "146/146 [==============================] - 118s 810ms/step - loss: 0.3569 - sparse_categorical_accuracy: 0.8656 - val_loss: 0.2714 - val_sparse_categorical_accuracy: 0.8944\n",
            "Epoch 26/100\n",
            "146/146 [==============================] - 117s 804ms/step - loss: 0.3570 - sparse_categorical_accuracy: 0.8615 - val_loss: 0.2306 - val_sparse_categorical_accuracy: 0.9006\n",
            "Epoch 27/100\n",
            "146/146 [==============================] - 117s 803ms/step - loss: 0.3748 - sparse_categorical_accuracy: 0.8573 - val_loss: 0.2926 - val_sparse_categorical_accuracy: 0.9006\n",
            "Epoch 28/100\n",
            "146/146 [==============================] - 120s 820ms/step - loss: 0.3714 - sparse_categorical_accuracy: 0.8532 - val_loss: 0.2624 - val_sparse_categorical_accuracy: 0.9068\n",
            "Epoch 29/100\n",
            "146/146 [==============================] - 118s 808ms/step - loss: 0.3399 - sparse_categorical_accuracy: 0.8772 - val_loss: 0.4339 - val_sparse_categorical_accuracy: 0.8696\n",
            "Epoch 30/100\n",
            "146/146 [==============================] - 120s 817ms/step - loss: 0.3399 - sparse_categorical_accuracy: 0.8676 - val_loss: 0.2014 - val_sparse_categorical_accuracy: 0.9317\n",
            "Epoch 31/100\n",
            "146/146 [==============================] - 121s 831ms/step - loss: 0.3449 - sparse_categorical_accuracy: 0.8621 - val_loss: 0.2313 - val_sparse_categorical_accuracy: 0.9255\n",
            "Epoch 32/100\n",
            "146/146 [==============================] - 118s 808ms/step - loss: 0.3338 - sparse_categorical_accuracy: 0.8717 - val_loss: 0.2699 - val_sparse_categorical_accuracy: 0.9006\n",
            "Epoch 33/100\n",
            "146/146 [==============================] - 120s 819ms/step - loss: 0.3112 - sparse_categorical_accuracy: 0.8745 - val_loss: 0.1976 - val_sparse_categorical_accuracy: 0.9379\n",
            "Epoch 34/100\n",
            "146/146 [==============================] - 124s 849ms/step - loss: 0.3179 - sparse_categorical_accuracy: 0.8827 - val_loss: 0.1943 - val_sparse_categorical_accuracy: 0.9193\n",
            "Epoch 35/100\n",
            "146/146 [==============================] - 126s 860ms/step - loss: 0.3076 - sparse_categorical_accuracy: 0.8855 - val_loss: 0.1980 - val_sparse_categorical_accuracy: 0.9317\n",
            "Epoch 36/100\n",
            "146/146 [==============================] - 124s 847ms/step - loss: 0.3030 - sparse_categorical_accuracy: 0.8813 - val_loss: 0.2045 - val_sparse_categorical_accuracy: 0.9317\n",
            "Epoch 37/100\n",
            "146/146 [==============================] - 124s 852ms/step - loss: 0.3079 - sparse_categorical_accuracy: 0.8813 - val_loss: 0.2476 - val_sparse_categorical_accuracy: 0.9193\n",
            "Epoch 38/100\n",
            "146/146 [==============================] - 124s 850ms/step - loss: 0.2831 - sparse_categorical_accuracy: 0.8882 - val_loss: 0.2254 - val_sparse_categorical_accuracy: 0.9068\n",
            "Epoch 39/100\n",
            "146/146 [==============================] - 123s 843ms/step - loss: 0.3027 - sparse_categorical_accuracy: 0.8834 - val_loss: 0.2260 - val_sparse_categorical_accuracy: 0.9255\n",
            "Epoch 40/100\n",
            "146/146 [==============================] - 123s 840ms/step - loss: 0.2620 - sparse_categorical_accuracy: 0.8951 - val_loss: 0.4787 - val_sparse_categorical_accuracy: 0.8820\n",
            "Epoch 41/100\n",
            "146/146 [==============================] - 123s 844ms/step - loss: 0.3231 - sparse_categorical_accuracy: 0.8875 - val_loss: 0.1916 - val_sparse_categorical_accuracy: 0.9441\n",
            "Epoch 42/100\n",
            "146/146 [==============================] - 123s 840ms/step - loss: 0.2863 - sparse_categorical_accuracy: 0.8957 - val_loss: 0.2413 - val_sparse_categorical_accuracy: 0.9317\n",
            "Epoch 43/100\n",
            "146/146 [==============================] - 123s 841ms/step - loss: 0.2856 - sparse_categorical_accuracy: 0.8944 - val_loss: 0.2143 - val_sparse_categorical_accuracy: 0.9317\n",
            "Epoch 44/100\n",
            "146/146 [==============================] - 123s 838ms/step - loss: 0.3087 - sparse_categorical_accuracy: 0.8868 - val_loss: 0.1869 - val_sparse_categorical_accuracy: 0.9565\n",
            "Epoch 45/100\n",
            "146/146 [==============================] - 119s 810ms/step - loss: 0.3191 - sparse_categorical_accuracy: 0.8861 - val_loss: 0.1857 - val_sparse_categorical_accuracy: 0.9503\n",
            "Epoch 46/100\n",
            "146/146 [==============================] - 120s 821ms/step - loss: 0.3023 - sparse_categorical_accuracy: 0.8745 - val_loss: 0.2136 - val_sparse_categorical_accuracy: 0.9130\n",
            "Epoch 47/100\n",
            "146/146 [==============================] - 120s 818ms/step - loss: 0.2899 - sparse_categorical_accuracy: 0.9033 - val_loss: 0.1806 - val_sparse_categorical_accuracy: 0.9441\n",
            "Epoch 48/100\n",
            "146/146 [==============================] - 119s 817ms/step - loss: 0.2665 - sparse_categorical_accuracy: 0.9019 - val_loss: 0.1479 - val_sparse_categorical_accuracy: 0.9503\n",
            "Epoch 49/100\n",
            "146/146 [==============================] - 119s 815ms/step - loss: 0.2744 - sparse_categorical_accuracy: 0.8909 - val_loss: 0.2576 - val_sparse_categorical_accuracy: 0.9068\n",
            "Epoch 50/100\n",
            "146/146 [==============================] - 117s 802ms/step - loss: 0.2572 - sparse_categorical_accuracy: 0.9019 - val_loss: 0.1314 - val_sparse_categorical_accuracy: 0.9565\n",
            "Epoch 51/100\n",
            "146/146 [==============================] - 119s 815ms/step - loss: 0.2932 - sparse_categorical_accuracy: 0.8903 - val_loss: 0.3050 - val_sparse_categorical_accuracy: 0.9130\n",
            "Epoch 52/100\n",
            " 64/146 [============>.................] - ETA: 1:04 - loss: 0.3036 - sparse_categorical_accuracy: 0.8813"
          ]
        }
      ]
    }
  ]
}